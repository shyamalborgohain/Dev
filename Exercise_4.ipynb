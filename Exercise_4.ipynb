{
 "cells": [
  {
   "cell_type": "markdown",
   "metadata": {},
   "source": [
    "### **Chapter 4: BRANCHING STATEMENTS**"
   ]
  },
  {
   "cell_type": "code",
   "execution_count": 1,
   "metadata": {},
   "outputs": [],
   "source": [
    "import numpy as np\n",
    "import math"
   ]
  },
  {
   "cell_type": "markdown",
   "metadata": {},
   "source": [
    "**Q1.** Write a function *my_tip_calc(bill, party)*, where bill is the total cost of a meal and party is the number of people in the group. The tip should be calculated as 15% for a party strictly less than six people, 18% for a party strictly less than eight, 20% for a party less than 11, and 25% for a party 11 or more. A couple of test cases are given below.\n",
    "\n",
    "def my_tip_calc(bill, party):\n",
    "\n",
    "  *#write your function code here*\n",
    " \n",
    "    return tips"
   ]
  },
  {
   "cell_type": "code",
   "execution_count": 2,
   "metadata": {},
   "outputs": [
    {
     "name": "stdout",
     "output_type": "stream",
     "text": [
      "16.3935\n",
      "19.6722\n",
      "21.858000000000004\n",
      "27.3225\n"
     ]
    }
   ],
   "source": [
    "def my_tip_calc(bill, party):\n",
    "    if party <= 0:\n",
    "        tips = \"Error\"\n",
    "    elif party < 6:\n",
    "        tips = 15/100*bill\n",
    "    elif party < 8:\n",
    "        tips = 18/100*bill\n",
    "    elif party < 11:\n",
    "        tips = 20/100*bill\n",
    "    else:\n",
    "        tips = 25/100*bill\n",
    "    return tips\n",
    "\n",
    "print(my_tip_calc(109.29,3))\n",
    "print(my_tip_calc(109.29,7))\n",
    "print(my_tip_calc(109.29,9))\n",
    "print(my_tip_calc(109.29,12))"
   ]
  },
  {
   "cell_type": "markdown",
   "metadata": {},
   "source": [
    "**Q2.** Write a function *my_mult_operation(a, b, operation)*. The input argument, operation,is a string that is either \"plus\", \"minus\", \"mult\", \"div\", or \"pow\", and the function should compute: a + b, a − b, a∗b, a/b, and $a^b$ for the respective values for operation. A couple of test cases are given below.\n",
    "\n",
    "def my_mult_operation(a, b, operation):\n",
    "  \n",
    "  *#write your function code here*\n",
    "    \n",
    "    return out"
   ]
  },
  {
   "cell_type": "code",
   "execution_count": 3,
   "metadata": {},
   "outputs": [],
   "source": [
    "def my_mult_operation(a, b, operation):\n",
    "    if operation == \"plus\":\n",
    "        out = a + b\n",
    "    elif operation == \"minus\":\n",
    "        out = a - b\n",
    "    elif operation == \"mult\":\n",
    "        out = a*b\n",
    "    elif operation == \"div\":\n",
    "        out = a/b\n",
    "    elif operation == \"pow\":\n",
    "        out = a**b\n",
    "    return out"
   ]
  },
  {
   "cell_type": "code",
   "execution_count": 4,
   "metadata": {},
   "outputs": [
    {
     "name": "stdout",
     "output_type": "stream",
     "text": [
      "[3 5 7 9]\n",
      "[-1 -1 -1 -1]\n",
      "[ 2  6 12 20]\n",
      "[0.5        0.66666667 0.75       0.8       ]\n",
      "[   1    8   81 1024]\n"
     ]
    }
   ],
   "source": [
    "x = np.array([1,2,3,4])\n",
    "y = np.array([2,3,4,5])\n",
    "\n",
    "print(my_mult_operation(x, y, \"plus\"))\n",
    "print(my_mult_operation(x, y, \"minus\"))\n",
    "print(my_mult_operation(x, y, \"mult\"))\n",
    "print(my_mult_operation(x, y, \"div\"))\n",
    "print(my_mult_operation(x, y, \"pow\"))"
   ]
  },
  {
   "cell_type": "markdown",
   "metadata": {},
   "source": [
    "**Q3.**  Consider a triangle with vertices at (0, 0), (1, 0), and (0, 1). Write a function with the name *my_inside_triangle(x, y)*, where the output is the string \"outside\" if the point (x, y) is outside of the triangle, \"border\" if the point is exactly on the border of the triangle, and \"inside\" if the point is on the inside of the triangle.\n",
    "\n",
    "def my_inside_triangle(x, y):\n",
    "\n",
    " *#write your function code here*\n",
    "\n",
    "    return position"
   ]
  },
  {
   "cell_type": "code",
   "execution_count": 5,
   "metadata": {},
   "outputs": [
    {
     "name": "stdout",
     "output_type": "stream",
     "text": [
      "outside\n",
      "inside\n",
      "outside\n"
     ]
    }
   ],
   "source": [
    "def my_inside_triangle(x, y):\n",
    "    if x < 0 or y < 0:\n",
    "        position = \"outside\"\n",
    "    if x > 0 and y > 0:\n",
    "        if (x + y) < 1:\n",
    "            position = \"inside\"\n",
    "        else:\n",
    "            position = \"outside\"\n",
    "    else:\n",
    "        position = \"border\"\n",
    "    return position\n",
    "\n",
    "print(my_inside_triangle(.5,.5))\n",
    "print(my_inside_triangle(.25,.25))\n",
    "print(my_inside_triangle(5,5))"
   ]
  },
  {
   "cell_type": "markdown",
   "metadata": {},
   "source": [
    "**Q4.** Write a function *my_make_size10(x)*, where x is an array, and output is the first 10 elements of x if x has more than 10 elements, and output is the array x padded with enough zeros to make it length 10 if x has less than 10 elements.\n",
    "\n",
    "def my_make_size10(x) :\n",
    "  \n",
    "  *#write your function code here*\n",
    "\n",
    "    return size10"
   ]
  },
  {
   "cell_type": "code",
   "execution_count": 6,
   "metadata": {},
   "outputs": [
    {
     "name": "stdout",
     "output_type": "stream",
     "text": [
      "[1. 2. 0. 0. 0. 0. 0. 0. 0. 0.]\n",
      "[ 1  2  3  4  5  6  7  8  9 10]\n",
      "[ 3.  6. 13.  4.  0.  0.  0.  0.  0.  0.]\n"
     ]
    }
   ],
   "source": [
    "def my_make_size10(x):\n",
    "    x = np.array(x)\n",
    "    if len(x)>9:\n",
    "        size10 = x[0:10]\n",
    "    else:\n",
    "        size10 = np.concatenate([x, np.zeros(10 - len(x))])\n",
    "    return size10\n",
    "\n",
    "print(my_make_size10(range(1,3)))\n",
    "print(my_make_size10(range(1,15)))\n",
    "print(my_make_size10([3, 6, 13, 4]))"
   ]
  },
  {
   "cell_type": "markdown",
   "metadata": {},
   "source": [
    "**Q5.**  Can you write *my_make_size10* without using if-statements (i.e., using only logical and array operations)?"
   ]
  },
  {
   "cell_type": "code",
   "execution_count": 7,
   "metadata": {},
   "outputs": [
    {
     "name": "stdout",
     "output_type": "stream",
     "text": [
      "[1. 2. 0. 0. 0. 0. 0. 0. 0. 0.]\n",
      "[ 1.  2.  3.  4.  5.  6.  7.  8.  9. 10.]\n",
      "[ 3.  6. 13.  4.  0.  0.  0.  0.  0.  0.]\n"
     ]
    }
   ],
   "source": [
    "def my_make_size10_1(x):\n",
    "    size10 = np.concatenate([x[:10], np.zeros(max(0, 10 - len(x)))] )\n",
    "    return size10\n",
    "\n",
    "print(my_make_size10_1(range(1, 3)))    \n",
    "print(my_make_size10_1(range(1, 15)))   \n",
    "print(my_make_size10_1([3, 6, 13, 4])) "
   ]
  },
  {
   "cell_type": "markdown",
   "metadata": {},
   "source": [
    "**Q6.** Write a function *my_letter_grader(percent)*, where the grade is the string \"A+\" if percent is greater than 97, \"A\" if percent is greater than 93, \"A-\" if percent is greater than 90, \"B+\" if percent is greater than 87, \"B\" if percent is greater than 83, \"B-\" if percent is greater than 80, \"C+\" if percent is greater than 77, \"C\" if percent is greater than 73, \"C-\" if percent is greater than 70, \"D+\" if percent is greater than 67, \"D\" if percent is greater than 63, \"D-\" if percent is greater than 60, and \"F\" for any percent less than 60. Grades exactly on the division should be included in the higher grade category.\n",
    "\n",
    "def my_letter_grader(percent):\n",
    " \n",
    "  *#write your function code here*\n",
    " \n",
    "    return grade"
   ]
  },
  {
   "cell_type": "code",
   "execution_count": 8,
   "metadata": {},
   "outputs": [
    {
     "name": "stdout",
     "output_type": "stream",
     "text": [
      "A+\n",
      "B\n"
     ]
    }
   ],
   "source": [
    "def my_letter_grader(percent):\n",
    "    if percent < 0 or percent > 100:\n",
    "        grade = \"Error\"\n",
    "    elif percent >= 97:\n",
    "        grade = \"A+\"\n",
    "    elif percent >= 93:\n",
    "        grade = \"A\"\n",
    "    elif percent >= 90:\n",
    "        grade = \"A-\"\n",
    "    elif percent >= 87:\n",
    "        grade = \"B+\"\n",
    "    elif percent >= 83:\n",
    "        grade = \"B\"\n",
    "    elif percent >= 80:\n",
    "        grade = \"B-\"\n",
    "    elif percent >= 77 :\n",
    "        grade = \"C+\"\n",
    "    elif percent >= 73:\n",
    "        grade = \"C\"\n",
    "    elif percent >= 70 :\n",
    "        grade = \"C-\"\n",
    "    elif percent >= 67 :\n",
    "        grade = \"D+\"\n",
    "    elif percent >= 63 :\n",
    "        grade = \"D\"\n",
    "    elif percent >= 60 :\n",
    "        grade = \"D-\"\n",
    "    else:\n",
    "        grade = \"F\"\n",
    "    return grade\n",
    "\n",
    "print(my_letter_grader(97))\n",
    "print(my_letter_grader(84))"
   ]
  },
  {
   "cell_type": "markdown",
   "metadata": {},
   "source": [
    "**Q7.** Most engineering systems have a built-in redundancy. That is, an engineering system has fail-safes incorporated into the design to accomplish its purpose. Consider a nuclear reactor whose temperature is monitored by three sensors. An alarm should go off if any two of the sensor readings disagree. Write a function *my_nuke_alarm(s1, s2, s3)*, where s1, s2, and s3 are the temperature readings for sensor 1, sensor 2, and sensor 3, respectively. The output should be the string \"alarm!\" if any two of the temperature readings disagree by strictly more than 10 degrees and \"normal\" otherwise.\n",
    "\n",
    "def my_nuke_alarm(s1, s2, s3):\n",
    " \n",
    " *#write your function code here*\n",
    " \n",
    "    return response"
   ]
  },
  {
   "cell_type": "code",
   "execution_count": 9,
   "metadata": {},
   "outputs": [
    {
     "name": "stdout",
     "output_type": "stream",
     "text": [
      "normal\n",
      "alarm!\n",
      "normal\n"
     ]
    }
   ],
   "source": [
    "def my_nuke_alarm(s1, s2, s3):\n",
    "    if abs(s1-s2)>10 or abs(s2-s3)>10 or abs(s3-s1)>10:\n",
    "        response = \"alarm!\"\n",
    "    else:\n",
    "        response = \"normal\"\n",
    "    return response\n",
    "\n",
    "print( my_nuke_alarm(94,96,90))\n",
    "print( my_nuke_alarm(94,96,80))\n",
    "print( my_nuke_alarm(100,96,90))"
   ]
  },
  {
   "cell_type": "markdown",
   "metadata": {},
   "source": [
    "**Q8.**  Let Q(x) be the quadratic equation Q(x) = ax2 +bx +c for some scalar values a, b, and c. A root of Q(x) is an r such that Q(r)=0. The two roots of a quadratic equation can be described by the quadratic formula, which is\n",
    "\n",
    "$r = \\frac{−b±\n",
    " \\sqrt{b^2 −4ac}}{2a}$.\n",
    "\n",
    " Aquadratic equation has either two real roots (i.e., b2 > 4ac), two imaginary roots (i.e., b2 < 4ac), or one root $r = \\frac{−b}{2a}$. Write a function *my_n_roots(a, b, c)*, where a, b, and c are the coefficients of the quadratic Q(x). The function should return two values: *n_roots* and r.Also *n_roots* is 2 if Q has two real roots, 1 if Q has one root, −2 if Q has two imaginary roots, and r is an array containing the roots of Q.\n",
    "\n",
    "def my_n_roots(a, b, c):\n",
    "\n",
    "*#write your function code here*\n",
    "\n",
    "    return n_roots, r"
   ]
  },
  {
   "cell_type": "code",
   "execution_count": 10,
   "metadata": {},
   "outputs": [
    {
     "name": "stdout",
     "output_type": "stream",
     "text": [
      "2 [3.0, -3.0]\n",
      "-2 [(-0.6666666666666666+1.1055415967851332j), (-0.6666666666666666-1.1055415967851332j)]\n",
      "1 [-1.0]\n"
     ]
    }
   ],
   "source": [
    "def my_n_roots(a, b, c):\n",
    "    D = b**2 - 4*a*c\n",
    "    if D > 0:\n",
    "        n_roots = 2\n",
    "        r = [(-b + math.sqrt(D))/(2*a), (-b - math.sqrt(D))/(2*a)]\n",
    "    elif D == 0:\n",
    "        n_roots = 1\n",
    "        r = [-b/(2*a)]\n",
    "    else:\n",
    "        n_roots = -2\n",
    "        x = -b/(2*a)\n",
    "        y = math.sqrt(-D)/(2*a)\n",
    "        r = [complex(x, y), complex(x, -y)]\n",
    "    return n_roots, r\n",
    "\n",
    "n_roots, r = my_n_roots(1, 0, -9)\n",
    "print(n_roots, r)\n",
    "n_roots, r = my_n_roots(3, 4, 5)\n",
    "print(n_roots, r)\n",
    "n_roots, r = my_n_roots(2, 4, 2)\n",
    "print(n_roots, r)"
   ]
  },
  {
   "cell_type": "markdown",
   "metadata": {},
   "source": [
    "**Q9.** Write a function my_split_function(f, g, a, b, x), where f and g are function objects f(x) and g(x), respectively. The output should be f(x) if x ≤ a, g(x) if x ≥ b, and 0 otherwise. Assume that b > a."
   ]
  },
  {
   "cell_type": "code",
   "execution_count": 11,
   "metadata": {},
   "outputs": [
    {
     "name": "stdout",
     "output_type": "stream",
     "text": [
      "2.718281828459045\n",
      "0\n",
      "-0.9589242746631385\n"
     ]
    }
   ],
   "source": [
    "def my_split_function(f, g, a, b, x):\n",
    "    if x <= a:\n",
    "        return f(x)\n",
    "    elif x >= b:\n",
    "        return g(x)\n",
    "    else:\n",
    "        return 0\n",
    "    \n",
    "print(my_split_function(np.exp,np.sin,2,4,1))\n",
    "print(my_split_function(np.exp,np.sin,2,4,3))\n",
    "print(my_split_function(np.exp,np.sin,2,4,5))"
   ]
  },
  {
   "cell_type": "markdown",
   "metadata": {},
   "source": [
    "*This is the **END** of this Exercise.*"
   ]
  }
 ],
 "metadata": {
  "kernelspec": {
   "display_name": "Python 3",
   "language": "python",
   "name": "python3"
  },
  "language_info": {
   "codemirror_mode": {
    "name": "ipython",
    "version": 3
   },
   "file_extension": ".py",
   "mimetype": "text/x-python",
   "name": "python",
   "nbconvert_exporter": "python",
   "pygments_lexer": "ipython3",
   "version": "3.10.12"
  }
 },
 "nbformat": 4,
 "nbformat_minor": 2
}
