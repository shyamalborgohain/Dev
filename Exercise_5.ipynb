{
 "cells": [
  {
   "cell_type": "markdown",
   "metadata": {},
   "source": [
    "### **Chapter 5: ITERATION**"
   ]
  },
  {
   "cell_type": "code",
   "execution_count": 1,
   "metadata": {},
   "outputs": [],
   "source": [
    "import numpy as np\n",
    "import math\n",
    "import random"
   ]
  },
  {
   "cell_type": "markdown",
   "metadata": {},
   "source": [
    "**Q1.** What will the value of y be after the following code is executed?"
   ]
  },
  {
   "cell_type": "code",
   "execution_count": 2,
   "metadata": {},
   "outputs": [
    {
     "data": {
      "text/plain": [
       "1000"
      ]
     },
     "execution_count": 2,
     "metadata": {},
     "output_type": "execute_result"
    }
   ],
   "source": [
    "y = 0\n",
    "for i in range(1000):\n",
    "    for j in range(1000):\n",
    "        if i == j:\n",
    "            y += 1\n",
    "            \n",
    "y"
   ]
  },
  {
   "cell_type": "markdown",
   "metadata": {},
   "source": [
    "**Q2.** Write a function *my_max(x)* to return the maximum (largest) value in x. Do not use the built-in Python function *max*.\n"
   ]
  },
  {
   "cell_type": "code",
   "execution_count": 3,
   "metadata": {},
   "outputs": [
    {
     "name": "stdout",
     "output_type": "stream",
     "text": [
      "433\n"
     ]
    }
   ],
   "source": [
    "def my_max(x):\n",
    "    max = 0\n",
    "    for i in range(len(x)):\n",
    "        if x[i] > max:\n",
    "            max = x[i]\n",
    "    print(max)\n",
    "        \n",
    "my_max(np.array([1,22,33,433,4,5,6,0]))"
   ]
  },
  {
   "cell_type": "markdown",
   "metadata": {},
   "source": [
    "**Q3.**  Write a function *my_n_max(x, n)* to return a list consisting of the n largest elements of x. You may use Python’s max function. You may also assume that x is a one-dimensional list with no duplicate entries, and that n is a strictly positive integer smaller than the length of x.\n",
    "\n",
    "def my_n_max(x, n):\n",
    "\n",
    " *#write your function code here*\n",
    " \n",
    "    return out"
   ]
  },
  {
   "cell_type": "code",
   "execution_count": 4,
   "metadata": {},
   "outputs": [
    {
     "data": {
      "text/plain": [
       "[10, 9, 8]"
      ]
     },
     "execution_count": 4,
     "metadata": {},
     "output_type": "execute_result"
    }
   ],
   "source": [
    "def my_n_max(x, n):\n",
    "    out = []\n",
    "    for _ in range(n):\n",
    "        out.append(max(x))\n",
    "        x.remove(max(x))\n",
    "    return out\n",
    "\n",
    "x = [7, 9, 10, 5, 8, 3, 4, 6, 2, 1]\n",
    "my_n_max(x, 3)"
   ]
  },
  {
   "cell_type": "markdown",
   "metadata": {},
   "source": [
    "**Q4.**  Let m be a matrix of positive integers. Write a function *my_trig_odd_even(m)* to return an array q, where q[i, j] = sin(m[i, j]) if m[i, j] is even, and q[i, j] = cos(m[i, j]) if m[i, j] is odd."
   ]
  },
  {
   "cell_type": "code",
   "execution_count": 5,
   "metadata": {},
   "outputs": [
    {
     "name": "stdout",
     "output_type": "stream",
     "text": [
      " Array q = [[ 0.54030231  0.90929743 -0.9899925 ]\n",
      " [-0.7568025   0.28366219 -0.2794155 ]]\n"
     ]
    }
   ],
   "source": [
    "def my_trig_odd_even(m):\n",
    "    nrow, ncol = m.shape\n",
    "    out = np.zeros((nrow, ncol))\n",
    "    for i in range(nrow):\n",
    "        for j in range(ncol):\n",
    "            if m[i, j]%2 == 0:\n",
    "                out[i, j] = np.sin(m[i, j])\n",
    "            else:\n",
    "                out[i, j] = np.cos(m[i, j])\n",
    "    return out\n",
    "    \n",
    "print(f\" Array q = {my_trig_odd_even(np.array([[1, 2, 3], [4, 5, 6]]))}\")"
   ]
  },
  {
   "cell_type": "markdown",
   "metadata": {},
   "source": [
    "**Q5.** Let P be an m×p array and Q be a p×n array. As you will find later in this book, M = P × Q is defined as $M[i, j]= \\sum^{p}_{k=1}P[i, k]·Q[k, j]$. Write a function *my_mat_mult(P, Q)* that uses for-loops to compute M, the matrix product of P * Q. Hint: You may need up to three nested for-loops. Do not use the function np.dot.\n",
    "\n",
    "import numpy as np\n",
    "\n",
    " def my_mat_mult(P, Q):\n",
    "\n",
    " *#write your function code here*\n",
    "\n",
    "    return M"
   ]
  },
  {
   "cell_type": "code",
   "execution_count": 6,
   "metadata": {},
   "outputs": [
    {
     "name": "stdout",
     "output_type": "stream",
     "text": [
      "[[3. 3. 3.]\n",
      " [3. 3. 3.]\n",
      " [3. 3. 3.]]\n",
      "[[30. 30. 30.]\n",
      " [70. 70. 70.]]\n"
     ]
    }
   ],
   "source": [
    "def my_mat_mult(P, Q):\n",
    "    nrow_1, ncol_1 = P.shape\n",
    "    nrow_2, ncol_2 = Q.shape\n",
    "    M = np.zeros((nrow_1, ncol_2))\n",
    "    if ncol_1 == nrow_2:\n",
    "        for i in range(nrow_1):\n",
    "            for k in range(ncol_1):\n",
    "                for j in range(ncol_2):\n",
    "                    M[i, j] += P[i, k]*Q[k, j]\n",
    "    else:\n",
    "        M = \"Invalid Input!\"\n",
    "    return M\n",
    "\n",
    "P = np.ones((3, 3))\n",
    "print(my_mat_mult(P, P))\n",
    "\n",
    "P = np.array([[1, 2, 3, 4], [5, 6, 7, 8]])\n",
    "Q = np.array([[1, 1, 1], [2, 2, 2], [3, 3, 3], [4, 4, 4]])\n",
    "print(my_mat_mult(P, Q))\n"
   ]
  },
  {
   "cell_type": "markdown",
   "metadata": {},
   "source": [
    "**Q6.**  The interest *i* on a principle, $P_0$, is a payment for allowing the bank to use your money. Compound interest is accumulated according to the formula $P_n = (1 + i)P_{n−1}$, where *n* is the compounding period, usually in months or years. Write a function *my_saving_plan(P0, i, goal)*, where the output is the number of years it will take *P0* to become *goal* at *i%* interest compounded annually.\n",
    "\n",
    "def my_saving_plan(P0, i, goal):\n",
    "\n",
    " *#write your function code here*\n",
    " \n",
    "    return years"
   ]
  },
  {
   "cell_type": "code",
   "execution_count": 7,
   "metadata": {},
   "outputs": [
    {
     "name": "stdout",
     "output_type": "stream",
     "text": [
      "15\n",
      "11\n",
      "21\n"
     ]
    }
   ],
   "source": [
    "def my_saving_plan(P0, i, goal):\n",
    "    years = 0\n",
    "    while P0 < goal:\n",
    "        P0 = (1 + i)*P0\n",
    "        years += 1\n",
    "    return years\n",
    "\n",
    "print(my_saving_plan(1000, 0.05, 2000))\n",
    "print(my_saving_plan(1000, 0.07, 2000))\n",
    "print(my_saving_plan(500, 0.07, 2000))"
   ]
  },
  {
   "cell_type": "markdown",
   "metadata": {},
   "source": [
    "**Q7.** Write a function with *my_find(M)* where the output is a list of indices *i* and where *M[ i ]* is 1. You may assume that *M* is a list of only ones and zeros. Do not use the built-in Python function find."
   ]
  },
  {
   "cell_type": "code",
   "execution_count": 8,
   "metadata": {},
   "outputs": [
    {
     "data": {
      "text/plain": [
       "[0, 2, 3]"
      ]
     },
     "execution_count": 8,
     "metadata": {},
     "output_type": "execute_result"
    }
   ],
   "source": [
    "def my_find(M):\n",
    "    indices = [x for x in range(len(M)) if M[x]==1]\n",
    "    return indices\n",
    "        \n",
    "M = [1, 0, 1, 1, 0]\n",
    "my_find(M)"
   ]
  },
  {
   "cell_type": "markdown",
   "metadata": {},
   "source": [
    "**Q8.** Assume you are rolling two six-sided dice, with each side having an equal chance of occurring. Write a function *my_monopoly_dice()* where the output is the sum of the values of the two dice thrown but with the following extra rule: if the two dice rolls are the same, then another roll is made, and the new sum added to the running total. For example, if the two dice show 3 and 4, then the running total should be 7. If the two dice show 1 and 1, then the running total should be 2 plus the total of another throw. Rolls stop when the dice rolls are different."
   ]
  },
  {
   "cell_type": "code",
   "execution_count": 9,
   "metadata": {},
   "outputs": [
    {
     "name": "stdout",
     "output_type": "stream",
     "text": [
      "6\n",
      "10\n",
      "4\n"
     ]
    }
   ],
   "source": [
    "def my_monopoly_dice():\n",
    "    i = j = out = 0\n",
    "    while i==j:\n",
    "        i = random.choice(range(1,7))\n",
    "        j = random.choice(range(1,7))\n",
    "        out += (i+j)\n",
    "    return out\n",
    "\n",
    "print(my_monopoly_dice())\n",
    "print(my_monopoly_dice())\n",
    "print(my_monopoly_dice())"
   ]
  },
  {
   "cell_type": "markdown",
   "metadata": {},
   "source": [
    "**Q9.**  A number is prime if it is divisible without remainder only by itself and 1. The number 1 is not a prime. Write a function *my_is_prime(n)*, where the output is 1 if *n* is prime and 0 is otherwise. Assume that *n* is a strictly positive integer."
   ]
  },
  {
   "cell_type": "code",
   "execution_count": 10,
   "metadata": {},
   "outputs": [
    {
     "name": "stdout",
     "output_type": "stream",
     "text": [
      "0\n",
      "0\n"
     ]
    },
    {
     "name": "stdout",
     "output_type": "stream",
     "text": [
      "1\n"
     ]
    }
   ],
   "source": [
    "def my_is_prime(n):\n",
    "    nfac = 0\n",
    "    for i in range(1, 1+n):\n",
    "        if n%i == 0:\n",
    "            nfac += 1\n",
    "    if nfac == 2:\n",
    "        return 1\n",
    "    else:\n",
    "        out = 0\n",
    "    return out\n",
    "\n",
    "print(my_is_prime(1))\n",
    "print(my_is_prime(4))\n",
    "print(my_is_prime(1001107))"
   ]
  },
  {
   "cell_type": "markdown",
   "metadata": {},
   "source": [
    "**Q10.** Write a function *my_n_primes(n),* where prime is a list of the first n primes. Assume that *n* is a strictly positive integer."
   ]
  },
  {
   "cell_type": "code",
   "execution_count": 11,
   "metadata": {},
   "outputs": [
    {
     "name": "stdout",
     "output_type": "stream",
     "text": [
      "Prime List = [2, 3, 5, 7, 11, 13, 17, 19, 23, 29, 31, 37, 41, 43, 47, 53, 59, 61, 67, 71, 73, 79, 83, 89, 97]\n"
     ]
    }
   ],
   "source": [
    "def my_n_primes(n):\n",
    "    prime = []\n",
    "    i = 0\n",
    "    while len(prime) < n:\n",
    "        i += 1\n",
    "        if my_is_prime(i) == 1:\n",
    "            prime.append(i)\n",
    "    return prime\n",
    "\n",
    "print(f\"Prime List = {my_n_primes(25)}\")"
   ]
  },
  {
   "cell_type": "markdown",
   "metadata": {},
   "source": [
    "**Q11.** Write a function *my_n_fib_primes(n)*, where the output *fib_primes* is a list of the first n numbers that are both a Fibonacci number and a prime. Note that 1 is not prime. Hint: Do not use the recursive implementation of Fibonacci numbers. A function to compute Fibonacci numbers is presented in **Section 6.1**. You may use the code freely.\n",
    "\n",
    "def my_n_fib_primes(n): \n",
    "\n",
    "*#write your function code here*\n",
    "   \n",
    "    return fib_primes\n"
   ]
  },
  {
   "cell_type": "code",
   "execution_count": 12,
   "metadata": {},
   "outputs": [
    {
     "name": "stdout",
     "output_type": "stream",
     "text": [
      "[2, 3, 5]\n",
      "[2, 3, 5, 13, 89, 233, 1597, 28657]\n"
     ]
    }
   ],
   "source": [
    "def my_n_fib_primes(n):\n",
    "    fib = [1, 1]\n",
    "    fib_primes = []\n",
    "    while len(fib_primes) < n:\n",
    "        nfib = fib[-1] + fib[-2]\n",
    "        fib.append(nfib)\n",
    "        if my_is_prime(nfib):\n",
    "            fib_primes.append(nfib)\n",
    "    return fib_primes\n",
    "\n",
    "print(my_n_fib_primes(3))\n",
    "print(my_n_fib_primes(8))"
   ]
  },
  {
   "cell_type": "markdown",
   "metadata": {},
   "source": [
    "**Q12.** Write a function *my_trig_odd_even(M)*, where the output $Q[i,j] = sin(\\frac{π}{M[i,j]})$ if M[i, j] is odd, and $Q[i,j] = cos(\\frac{π}{M[i,j]})$ if M[i, j] is even. Assume that M is a two-dimensional array of strictly positive integers.\n",
    "\n",
    "def my_trig_odd_even(M):\n",
    "\n",
    " *#write your function code here*\n",
    "\n",
    "    return Q"
   ]
  },
  {
   "cell_type": "code",
   "execution_count": null,
   "metadata": {},
   "outputs": [
    {
     "name": "stdout",
     "output_type": "stream",
     "text": [
      "[[0.8660254  0.70710678]\n",
      " [0.8660254  0.43388374]]\n"
     ]
    }
   ],
   "source": [
    "def my_trig_odd_even(M):\n",
    "    nrow, ncol = M.shape\n",
    "    Q = np.zeros((nrow, ncol))\n",
    "    for i in range(nrow):\n",
    "        for j in range(ncol):\n",
    "            if M[i, j]%2 == 0:\n",
    "                Q[i, j] = np.cos(np.pi/M[i, j])\n",
    "            else:\n",
    "                Q[i, j] = np.sin(np.pi/M[i, j])\n",
    "    return Q\n",
    "\n",
    "print(my_trig_odd_even(np.array([[3, 4], [6, 7]])))"
   ]
  },
  {
   "cell_type": "markdown",
   "metadata": {},
   "source": [
    "**Q13.**  Let C be a square connectivity array containing zeros and ones. Point i has a connection to point j or i is connected to j if *C[i, j] = 1*. Note that connections in this context are one-directional, meaning *C[i, j]* is not necessarily the same as *C[j, i]*. For example, think of a one-way street from point A to point B. If A is connected to B, then B is not necessarily connected to A. Write a function *my_connectivity_mat_2_dict(C, names)*, where C is a connectivity array and names is a list of strings that denote the name of a point. That is, *names[i]* is the name of the name of the $i^{th}$ point. The output variable *node* should be a dictionary with the key as the string in *names*, and value is a vector containing the indices *j*, such that *C[i, j] = 1*. In other words, it is a list of points that point i is connected to.\n",
    "\n",
    "def my_connectivity_mat_2_dict(C, names):\n",
    "\n",
    " *#write your function code here*\n",
    "    \n",
    "    return node"
   ]
  },
  {
   "cell_type": "code",
   "execution_count": 14,
   "metadata": {},
   "outputs": [
    {
     "name": "stdout",
     "output_type": "stream",
     "text": [
      "node[Los Angeles] = [2, 4]\n",
      "node[New York] = [1, 4]\n",
      "node[Miami] = [4]\n",
      "node[Dallas] = [1, 2, 3]\n"
     ]
    }
   ],
   "source": [
    "def my_connectivity_mat_2_dict(C, names):\n",
    "    node = {}\n",
    "    for i in range(len(names)):\n",
    "        connections = []\n",
    "        for j in range(len(names)):\n",
    "            if C[i, j] == 1:\n",
    "                connections.append(j+1)\n",
    "        node[names[i]] = connections\n",
    "    return node\n",
    "\n",
    "C = np.array([[0, 1, 0, 1], [1, 0, 0, 1], [0, 0, 0, 1], [1, 1, 1, 0]])\n",
    "names = [\"Los Angeles\", \"New York\", \"Miami\", \"Dallas\"]\n",
    "node = my_connectivity_mat_2_dict(C, names)\n",
    "for names in node:\n",
    "    print(f\"node[{names}] = {node[names]}\")"
   ]
  },
  {
   "cell_type": "markdown",
   "metadata": {},
   "source": [
    "**Q14.** Turn the list *words* of lower case characters to upper case using the list comprehension."
   ]
  },
  {
   "cell_type": "code",
   "execution_count": 15,
   "metadata": {},
   "outputs": [
    {
     "data": {
      "text/plain": [
       "['TEST', 'DATA', 'ANALYZE']"
      ]
     },
     "execution_count": 15,
     "metadata": {},
     "output_type": "execute_result"
    }
   ],
   "source": [
    "words = [\"test\", \"data\", \"analyze\"]\n",
    "words = [x.upper() for x in words]\n",
    "\n",
    "words"
   ]
  },
  {
   "cell_type": "markdown",
   "metadata": {},
   "source": [
    "*This is the **END** of this Exercise.*"
   ]
  }
 ],
 "metadata": {
  "kernelspec": {
   "display_name": "Python 3",
   "language": "python",
   "name": "python3"
  },
  "language_info": {
   "codemirror_mode": {
    "name": "ipython",
    "version": 3
   },
   "file_extension": ".py",
   "mimetype": "text/x-python",
   "name": "python",
   "nbconvert_exporter": "python",
   "pygments_lexer": "ipython3",
   "version": "3.10.12"
  }
 },
 "nbformat": 4,
 "nbformat_minor": 2
}
