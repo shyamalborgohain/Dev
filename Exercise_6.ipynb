{
 "cells": [
  {
   "cell_type": "markdown",
   "metadata": {},
   "source": [
    "### **Chapter 6: RECURSION**"
   ]
  },
  {
   "cell_type": "code",
   "execution_count": 1,
   "metadata": {},
   "outputs": [],
   "source": [
    "import numpy as np \n",
    "import math"
   ]
  },
  {
   "cell_type": "markdown",
   "metadata": {},
   "source": [
    "**Q1.** Write a function *my_sum(lst)*, where *lst* is a list, and the output is the sum of all the elements of *lst*. You can use a recursion or iteration function to solve the problem, but do not use Python’s *sum* function.\n",
    "\n",
    "def my_sum(lst):\n",
    "\n",
    " *#Write your function code here*\n",
    "\n",
    "    return out"
   ]
  },
  {
   "cell_type": "code",
   "execution_count": 2,
   "metadata": {},
   "outputs": [
    {
     "name": "stdout",
     "output_type": "stream",
     "text": [
      "6\n",
      "5050\n"
     ]
    }
   ],
   "source": [
    "def my_sum(lst):\n",
    "    out = 0\n",
    "    for i in lst:\n",
    "        out += i\n",
    "    return out\n",
    "\n",
    "print(my_sum([1,2,3]))\n",
    "print(my_sum(range(1,101)))"
   ]
  },
  {
   "cell_type": "markdown",
   "metadata": {},
   "source": [
    "**Q2.** Chebyshev polynomials are defined recursively and separated into two kinds: first and second. Chebyshev polynomials of the first kind, $T_n(x)$, and of the second kind, $U_n(x)$, are defined by the following recurrence relations:\n",
    "\n",
    "$T_n(x) = \\begin{cases} 1 & \\text{if } n = 0, \\\\ x & \\text{if } n = 1, \\\\ 2xT_{n-1}(x) - T_{n-2}(x) & \\text{otherwise}. \\end{cases}$\n",
    "\n",
    "$U_n(x) = \\begin{cases} 1 & \\text{if } n = 0, \\\\ 2x & \\text{if } n = 1, \\\\ 2xU_{n-1}(x) - U_{n-2}(x) & \\text{otherwise}. \\end{cases}$\n",
    "\n",
    "Write a function *my_chebyshev_poly1(n, x)*, where the output y is the nth Chebyshev polynomial of the first kind evaluated at x. Be sure your function can take list inputs for x. You may assume that x is a list. The output variable, y, must be a list also.\n",
    "\n",
    "def my_chebyshev_poly1(n, x):\n",
    "\n",
    " *#Write your function code here*\n",
    "\n",
    "    return y"
   ]
  },
  {
   "cell_type": "code",
   "execution_count": 3,
   "metadata": {},
   "outputs": [
    {
     "name": "stdout",
     "output_type": "stream",
     "text": [
      "[1 1 1 1 1]\n",
      "[1 2 3 4 5]\n",
      "[  1  26  99 244 485]\n"
     ]
    }
   ],
   "source": [
    "def my_chebyshev_poly1(n, x):\n",
    "    if n == 0:\n",
    "        y = np.ones_like(x)\n",
    "    elif n == 1:\n",
    "        y = x\n",
    "    else:\n",
    "        y = 2*x*my_chebyshev_poly1(n-1, x) - my_chebyshev_poly1(n-2, x)\n",
    "    return y\n",
    "    \n",
    "x = np.array([1, 2, 3, 4, 5])\n",
    "print(my_chebyshev_poly1(0,x))\n",
    "print(my_chebyshev_poly1(1,x))\n",
    "print(my_chebyshev_poly1(3,x))"
   ]
  },
  {
   "cell_type": "markdown",
   "metadata": {},
   "source": [
    "**Q3.** The Ackermann function, A, is a function quickly growing in popularity that is defined by the recursive relationship:\n",
    "\n",
    "$A(m, n) = \\begin{cases} {n+1} & \\text{if m = 0}, \\\\ A(m-1,1) & \\text{if m>0 and n=1}, \\\\ A(m-1,A(m, n-1)) & \\text{if m>0  and n>0}. \\end{cases}$\n",
    "\n",
    "Write a function *my_ackermann(m, n)*, where the output is the Ackermann function computed for m and n. \n",
    "\n",
    "*my_ackermann(4, 4)* is so large that it would be difficult to write down. Although the Ackermann function does not have many practical uses, the inverse Ackermann function has several uses in robotic motion planning.\n",
    "\n",
    "def my_ackermann(m, n):\n",
    "\n",
    " *#write your own function code here*\n",
    "\n",
    "    return out\n"
   ]
  },
  {
   "cell_type": "code",
   "execution_count": 4,
   "metadata": {},
   "outputs": [
    {
     "name": "stdout",
     "output_type": "stream",
     "text": [
      "3\n",
      "4\n",
      "9\n",
      "61\n",
      "125\n"
     ]
    }
   ],
   "source": [
    "def my_ackermann(m, n):\n",
    "    if m == 0:\n",
    "        out = n+1\n",
    "    elif m > 0 and n == 0:\n",
    "        out = my_ackermann(m-1, 1)\n",
    "    elif m > 0 and n > 0:\n",
    "        out = my_ackermann(m-1, my_ackermann(m, n-1))\n",
    "    return out\n",
    "\n",
    "print(my_ackermann(1,1))\n",
    "print(my_ackermann(1,2))\n",
    "print(my_ackermann(2,3))\n",
    "print(my_ackermann(3,3))\n",
    "print(my_ackermann(3,4))"
   ]
  },
  {
   "cell_type": "markdown",
   "metadata": {},
   "source": [
    "**4.** The function, C(n, k), computes the number of different ways of uniquely choosing k objects from n without repetition; it is commonly used in many statistics applications. For example, how many three-flavored ice cream sundaes are there if there are 10 ice-cream flavors? To solve this problem we would have to compute C(10,3), i.e., the number of ways of choosing three unique ice cream flavors from 10. The function C is commonly called “n choose k.” You may assume that n and k are integers. \n",
    "\n",
    "If n = k, then clearly C(n, k)=1 because there is only way to choose n objects from n objects. If k =1, then C(n, k) = n because choosing each of the n objects is a way of choosing one object from n. For all other cases, C(n, k) = C(n−1, k) + C(n−1, k−1). \n",
    "\n",
    "Can you see why? Write a function *my_n_choose_k(n,k)*, that computes the number of times k objects can be uniquely chosen from n objects without repetition.\n",
    "\n",
    "def my_n_choose_k(n, k):\n",
    "\n",
    "*#Write your own function code here*\n",
    "\n",
    "    return out"
   ]
  },
  {
   "cell_type": "code",
   "execution_count": 5,
   "metadata": {},
   "outputs": [
    {
     "name": "stdout",
     "output_type": "stream",
     "text": [
      "10\n",
      "1\n",
      "120\n"
     ]
    }
   ],
   "source": [
    "def my_n_choose_k(n, k):\n",
    "    if n == k:\n",
    "        out = 1\n",
    "    elif k == 1:\n",
    "        out = n\n",
    "    else:\n",
    "        out = my_n_choose_k(n-1, k) + my_n_choose_k(n-1, k-1)\n",
    "    return out\n",
    "\n",
    "print(my_n_choose_k(10,1))\n",
    "print(my_n_choose_k(10,10))\n",
    "print(my_n_choose_k(10,3))"
   ]
  },
  {
   "cell_type": "markdown",
   "metadata": {},
   "source": [
    "**Q5.**  For any purchases paid in cash, the seller must return money that was overpaid. This is commonly referred to as “giving change.” The bills and coins required to properly give change can be defined by a recursive relationship. If the amount paid is more than $100 more than the cost, then a 100-dollar bill is returned, which is the result of a recursive call to the change function with $100 subtracted from the amount paid. If the amount paid is more than $50 over the cost of the item, then a 50-dollar bill is returned, along with the result of a recursive call to the change function with $50 subtracted. Similar clauses can be given for every denomination of US currency. The denominations of US currency, in dollars, are 100, 50, 20, 10, 5, 1, 0.25, 0.10, 0.05, and 0.01. For this problem, we will ignore the 2-dollar bill, which is not in common circulation. Assume that cost and paid are scalars and that paid ≥ cost. The output variable, change, must be a list, as shown in the test case. \n",
    "\n",
    "Use recursion to program a function *my_change(cost, paid)*, where cost is the cost of the item, paid is the amount paid, and the output change is a list of bills and coins that should be returned to the seller. Watch out for the base case!\n",
    "\n",
    "def my_change(cost, paid):\n",
    " \n",
    "*#Write your own function code here*\n",
    "\n",
    "    return change\n"
   ]
  },
  {
   "cell_type": "code",
   "execution_count": null,
   "metadata": {},
   "outputs": [
    {
     "data": {
      "text/plain": [
       "[50, 20, 1, 1, 0.25, 0.1, 0.05, 0.01, 0.01, 0.01]"
      ]
     },
     "execution_count": 6,
     "metadata": {},
     "output_type": "execute_result"
    }
   ],
   "source": [
    "def my_change(cost, paid):\n",
    "    change = []\n",
    "    currency = [100, 50, 20, 10, 5, 1, 0.25, 0.10, 0.05, 0.01]\n",
    "    diff = paid - cost\n",
    "    for i in currency:\n",
    "        while diff >  i:\n",
    "            if diff >= i:\n",
    "                change.append(i)\n",
    "                diff -= i\n",
    "    return change\n",
    "\n",
    "my_change(27.57, 100)"
   ]
  },
  {
   "cell_type": "markdown",
   "metadata": {},
   "source": [
    "**Q6.**  The golden ratio, $\\phi$, is the limit of $\\frac{F(n+1)}{F(n)}$ as n goes to infinity and F(n) is the nth Fibonacci number, which can be shown to be exactly $\\frac{1 + \\sqrt{5}}{2}$ and is approximately 1.62. We say that $G(n) = \\frac{F(n+1)}{F(n)} is the nth approximation of the golden ratio and G(1) = 1.\n",
    "\n",
    "It can be shown that $\\phi$ is also the limit of the continued fraction:\n",
    "\n",
    "### $\\phi = 1 + \\frac{1}{1 + \\frac{1}{1 + \\frac{1}{1 + \\frac{1}{1 + \\cdots}}}}$\n",
    "\n",
    "Write a recursive function with the header *my_golden_ratio(n)*, where the output is the nth approximation of the golden ratio according to the continued fraction recursive relationship. Use the continued fraction approximation for the golden ratio and not the $G(n) = \\frac{F(n+1)}{F(n)}$ definition; however, for both definitions, G(1) = 1. Studies have shown that rectangles with aspect ratio (i.e., length divided by width) close to the golden ratio are more pleasing to the eye than rectangles that are not. What is the aspect ratio of many wide-screen TVs and movie screens?\n",
    "\n",
    "def my_golden_ratio(n):\n",
    "\n",
    "*#Write your own function code here*\n",
    "\n",
    "    return out"
   ]
  },
  {
   "cell_type": "code",
   "execution_count": 7,
   "metadata": {},
   "outputs": [
    {
     "data": {
      "text/plain": [
       "1.6181818181818182"
      ]
     },
     "execution_count": 7,
     "metadata": {},
     "output_type": "execute_result"
    }
   ],
   "source": [
    "def F(n):\n",
    "    a, b = 0, 1\n",
    "    for i in range(n):\n",
    "        a, b = b, a+b\n",
    "    return a\n",
    "def my_golden_ratio(n):\n",
    "    return F(n+1)/F(n)\n",
    "\n",
    "my_golden_ratio(10)"
   ]
  },
  {
   "cell_type": "markdown",
   "metadata": {},
   "source": [
    "**Q7.**  The greatest common divisor of two integers a and b is the largest integer that divides both numbers without remainder; the function to compute it is denoted by *gcd(a, b)*. The gcd function can be written recursively. If b equals 0, then a is the greatest common divisor. Otherwise, gcd(a, b) = gcd(b, a%b) where a%b is the remainder of a divided by b. Assume that a and b are integers. Write a recursive function *my_gcd(a, b)* that computes the greatest common divisor of a and b. Assume that a and b are integers.\n",
    "\n",
    "def my_gcd(a, b):\n",
    "\n",
    "*#Write your own function code here*\n",
    "\n",
    "    return gcd\n"
   ]
  },
  {
   "cell_type": "code",
   "execution_count": 8,
   "metadata": {},
   "outputs": [
    {
     "name": "stdout",
     "output_type": "stream",
     "text": [
      "2\n",
      "11\n",
      "1\n"
     ]
    }
   ],
   "source": [
    "def my_gcd(a, b):\n",
    "    while b != 0:\n",
    "        a, b = b, a%b\n",
    "    return abs(a)\n",
    "\n",
    "print(my_gcd(10, 4))\n",
    "print(my_gcd(33, 121))\n",
    "print(my_gcd(18, 1))"
   ]
  },
  {
   "cell_type": "markdown",
   "metadata": {},
   "source": [
    "**Q8.** Pascal’s triangle is an arrangement of numbers such that each row is equivalent to the coefficients of the binomial expansion of $(x +y)^{p−1}$, where p is some positive integer more than or equal to 1. For example, $(x +y)^2 = 1x^2 + 2xy + 1y^2$; therefore, the third row of Pascal’s triangle is 1 2 1. Let $R_m$ represent the mth row of Pascal’s triangle and $R_m(n)$ be the nth element of the row. By definition, $R_m$ has m elements, and $R_m(1) = R_m(n) = 1$. The remaining elements are computed using the following recursive relationship: $R_m(i) = R_{m−1}(i − 1) + R_{m−1}(i)$ for i = 2,...,m−1. The first few rows of Pascal’s triangle are depicted in **Fig** below:\n",
    "\n",
    "\\[\n",
    "\\begin{array}{ccccccc}\n",
    " & & & & & 1 & & & & & \\\\\n",
    " & & & & 1 & & 1 & & & & \\\\\n",
    " & & & 1 & & 2 & & 1 & & & \\\\\n",
    " & & 1 & & 3 & & 3 & & 1 & & \\\\\n",
    " & 1 & & 4 & & 6 & & 4 & & 1 & \\\\\n",
    "1 & & 5 & & 10 & & 10 & & 5 & & 1\n",
    "\\end{array}\n",
    "\\]\n",
    "\n",
    "Write a function with *my_pascal_row(m)*, where output variable row is the mth row of the Pascal triangle and must be a list. Assume that m is a strictly positive integer.\n",
    "\n",
    "def my_pascal_row(m):\n",
    "\n",
    "*#Write your own function code here*\n",
    "\n",
    "    return row"
   ]
  },
  {
   "cell_type": "code",
   "execution_count": 9,
   "metadata": {},
   "outputs": [
    {
     "name": "stdout",
     "output_type": "stream",
     "text": [
      "[1]\n",
      "[1, 1]\n",
      "[1, 2, 1]\n",
      "[1, 3, 3, 1]\n",
      "[1, 4, 6, 4, 1]\n"
     ]
    }
   ],
   "source": [
    "def my_pascal_row(m):\n",
    "    row = [1]\n",
    "    if m == 1:\n",
    "        return row\n",
    "    else:\n",
    "        for i in range(1,m-1):\n",
    "            lst = my_pascal_row(m-1)\n",
    "            row.append(lst[i-1]+lst[i])\n",
    "        row.append(1)\n",
    "    return row\n",
    "\n",
    "print(my_pascal_row(1))\n",
    "print(my_pascal_row(2))\n",
    "print(my_pascal_row(3))\n",
    "print(my_pascal_row(4))\n",
    "print(my_pascal_row(5))"
   ]
  },
  {
   "cell_type": "markdown",
   "metadata": {},
   "source": [
    "**Q9.**  Consider an n×n matrix of the following form:\n",
    "\n",
    "$A = \\begin{bmatrix} 1 & 1 & 1 & 1 & 1 \\\\ 1 & 0 & 0 & 0 & 0 \\\\ 1 & 0 & 1 & 1 & 0 \\\\ 1 & 0 & 0 & 1 & 0 \\\\ 1 & 1 & 1 & 1 & 0 \\end{bmatrix}$, \n",
    "\n",
    "where the ones form a right spiral. Write a function *my_spiral_ones(n)* that produces a n×n matrix of the given form. Make sure that the recursive steps are in the correct order (i.e., the ones go right, then down, then left, then up, then right,etc.).\n",
    "\n",
    "def my_spiral_ones(n):\n",
    "\n",
    "*#Write your own function code here*\n",
    "    \n",
    "    return A"
   ]
  },
  {
   "cell_type": "code",
   "execution_count": 10,
   "metadata": {},
   "outputs": [
    {
     "name": "stdout",
     "output_type": "stream",
     "text": [
      "[1]\n",
      "[[1 1]\n",
      " [0 1]]\n",
      "[[1 1 1]\n",
      " [0 0 1]\n",
      " [0 1 1]]\n",
      "[[1 1 1 1]\n",
      " [0 0 0 1]\n",
      " [0 1 0 1]\n",
      " [0 1 1 1]]\n",
      "[[1. 1. 1. 1. 1.]\n",
      " [0. 0. 0. 0. 1.]\n",
      " [0. 1. 1. 0. 1.]\n",
      " [0. 1. 0. 0. 1.]\n",
      " [0. 1. 1. 1. 1.]]\n",
      "[[1. 1. 1. 1. 1. 1. 1. 1. 1. 1. 1. 1.]\n",
      " [0. 0. 0. 0. 0. 0. 0. 0. 0. 0. 0. 1.]\n",
      " [0. 1. 1. 1. 1. 1. 1. 1. 1. 1. 0. 1.]\n",
      " [0. 1. 0. 0. 0. 0. 0. 0. 0. 1. 0. 1.]\n",
      " [0. 1. 0. 1. 1. 1. 1. 1. 0. 1. 0. 1.]\n",
      " [0. 1. 0. 1. 0. 0. 0. 1. 0. 1. 0. 1.]\n",
      " [0. 1. 0. 1. 0. 1. 0. 1. 0. 1. 0. 1.]\n",
      " [0. 1. 0. 1. 0. 1. 1. 1. 0. 1. 0. 1.]\n",
      " [0. 1. 0. 1. 0. 0. 0. 0. 0. 1. 0. 1.]\n",
      " [0. 1. 0. 1. 1. 1. 1. 1. 1. 1. 0. 1.]\n",
      " [0. 1. 0. 0. 0. 0. 0. 0. 0. 0. 0. 1.]\n",
      " [0. 1. 1. 1. 1. 1. 1. 1. 1. 1. 1. 1.]]\n"
     ]
    }
   ],
   "source": [
    "def my_spiral_ones(n):\n",
    "    A = []\n",
    "    if n==1:\n",
    "        A = [1]\n",
    "    elif n==2:\n",
    "        A = np.array([[1,1],[0,1]])\n",
    "    elif n==3:\n",
    "        A = np.array([[1,1,1],[0,0,1],[0,1,1]])\n",
    "    elif n==4:\n",
    "        A = np.array([[1,1,1,1],[0,0,0,1],[0,1,0,1],[0,1,1,1]])\n",
    "    else:\n",
    "        A = np.ones((n,n))\n",
    "        A[1:,0] = 0\n",
    "        A[1,1:-1] = 0\n",
    "        A[2:-1,-2] = 0\n",
    "        A[-2,2:-2] = 0\n",
    "        A[2:-2,2:-2] = my_spiral_ones(n-4)\n",
    "    return A\n",
    "\n",
    "print(my_spiral_ones(1))\n",
    "print(my_spiral_ones(2))\n",
    "print(my_spiral_ones(3))\n",
    "print(my_spiral_ones(4))\n",
    "print(my_spiral_ones(5))\n",
    "print(my_spiral_ones(12))"
   ]
  },
  {
   "cell_type": "markdown",
   "metadata": {},
   "source": [
    "*This is the **END** of this Exercise.*\n",
    "\n",
    "*It's Tough!*"
   ]
  }
 ],
 "metadata": {
  "kernelspec": {
   "display_name": "Python 3",
   "language": "python",
   "name": "python3"
  },
  "language_info": {
   "codemirror_mode": {
    "name": "ipython",
    "version": 3
   },
   "file_extension": ".py",
   "mimetype": "text/x-python",
   "name": "python",
   "nbconvert_exporter": "python",
   "pygments_lexer": "ipython3",
   "version": "3.10.12"
  }
 },
 "nbformat": 4,
 "nbformat_minor": 2
}
