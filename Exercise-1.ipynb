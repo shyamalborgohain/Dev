{
 "cells": [
  {
   "cell_type": "markdown",
   "metadata": {},
   "source": [
    "### <U>**Chapter 1:  *PYTHON BASICS***</u>"
   ]
  },
  {
   "cell_type": "code",
   "execution_count": 1,
   "metadata": {},
   "outputs": [],
   "source": [
    "import math"
   ]
  },
  {
   "cell_type": "markdown",
   "metadata": {},
   "source": [
    "**Q5.** Compute the area of a triangle with base 10 and height 12. Recall that the area of a triangle is half the base times the height"
   ]
  },
  {
   "cell_type": "code",
   "execution_count": 2,
   "metadata": {},
   "outputs": [
    {
     "name": "stdout",
     "output_type": "stream",
     "text": [
      "Area of the Triangle = 60.0\n"
     ]
    }
   ],
   "source": [
    "base = 10\n",
    "height = 12\n",
    "\n",
    "print(f\"Area of the Triangle = {1/2*base*height}\")"
   ]
  },
  {
   "cell_type": "markdown",
   "metadata": {},
   "source": [
    "**Q6.** Compute the surface area and volume of a cylinder with radius 5 and height 3."
   ]
  },
  {
   "cell_type": "code",
   "execution_count": 3,
   "metadata": {},
   "outputs": [
    {
     "name": "stdout",
     "output_type": "stream",
     "text": [
      "Total Surface Area of Cylinder = 251.32741228718345\n",
      "Curved Surface Area of Cylinder = 94.24777960769379\n",
      "Volume of Cylinder = 235.61944901923448\n"
     ]
    }
   ],
   "source": [
    "radius = 5\n",
    "height = 3\n",
    "\n",
    "print(f\"Total Surface Area of Cylinder = {2*math.pi*radius*(radius + height)}\")\n",
    "print(f\"Curved Surface Area of Cylinder = {2*math.pi*radius*height}\")\n",
    "print(f\"Volume of Cylinder = {math.pi*radius**2*height}\")"
   ]
  },
  {
   "cell_type": "markdown",
   "metadata": {},
   "source": [
    "**Q7.** Compute the slope between the points (3, 4) and (5, 9). Recall that the slope between points\n",
    " $(x_1, y_1)$ and $(x_2, y_2)$ is $\\frac{y_2 − y_1}{x_2 − x_1}$."
   ]
  },
  {
   "cell_type": "code",
   "execution_count": 4,
   "metadata": {},
   "outputs": [
    {
     "name": "stdout",
     "output_type": "stream",
     "text": [
      "Slope = 2.5\n"
     ]
    }
   ],
   "source": [
    "x1 = 3\n",
    "x2 = 5\n",
    "y1 = 4\n",
    "y2 = 9\n",
    "print(f\"Slope = {(y2-y1)/(x2-x1)}\")"
   ]
  },
  {
   "cell_type": "markdown",
   "metadata": {},
   "source": [
    "**Q8.** Compute the distance between the points (3, 4) and (5, 9). Recall that the distance between points\n",
    " in two dimensions is \n",
    "$\\sqrt{(x_2 − x_1)^2 +(y_2 − y_1)^2}$."
   ]
  },
  {
   "cell_type": "code",
   "execution_count": 5,
   "metadata": {},
   "outputs": [
    {
     "name": "stdout",
     "output_type": "stream",
     "text": [
      "Distance = 5.385164807134504\n"
     ]
    }
   ],
   "source": [
    "x1 = 3\n",
    "x2 = 5\n",
    "y1 = 4\n",
    "y2 = 9\n",
    "print(f\"Distance = {math.sqrt((x2-x1)**2 + (y2-y1)**2)}\")"
   ]
  },
  {
   "cell_type": "markdown",
   "metadata": {},
   "source": [
    "**Q9.** Use Python’s factorial function to compute 6!."
   ]
  },
  {
   "cell_type": "code",
   "execution_count": 6,
   "metadata": {},
   "outputs": [
    {
     "name": "stdout",
     "output_type": "stream",
     "text": [
      "6! = 720\n"
     ]
    }
   ],
   "source": [
    "print(f\"6! = {math.factorial(6)}\")"
   ]
  },
  {
   "cell_type": "markdown",
   "metadata": {},
   "source": [
    "**Q10.** Although a year is considered to be 365 days long, a more exact figure is 365.25 days. As a\n",
    " consequence, if we held to the standard 365-day year, we would gradually lose that fraction of the\n",
    " day over time, and seasons and other astronomical events would not occur as expected. To keep\n",
    " the timescale on tract, a leap year is a year that includes an extra day, February 29, to keep the\n",
    " timescale on track. Leap years occur on years that are exactly divisible by 4, unless it is exactly\n",
    " divisible by 100, unless it is divisible by 400. For example, the year 2004 is a leap year, the year\n",
    " 1900 is not a leap year, and the year 2000 is a leap year. Compute the number of leap years between\n",
    " the years 1500 and 2010."
   ]
  },
  {
   "cell_type": "code",
   "execution_count": 7,
   "metadata": {},
   "outputs": [
    {
     "name": "stdout",
     "output_type": "stream",
     "text": [
      "No of Leap Years = 124\n"
     ]
    }
   ],
   "source": [
    "years = [x for x in range(1501, 2010) if (x%4==0 and x%100!=0) or (x%400==0)]\n",
    "print(f\"No of Leap Years = {len(years)}\")"
   ]
  },
  {
   "cell_type": "markdown",
   "metadata": {},
   "source": [
    "**Q11.**  A very powerful approximation for π was developed by a brilliant mathematician named Srinivasa Ramanujan. The approximation is the following:\n",
    "\n",
    "${\\frac{1}{\\pi} ≈ \\frac{2\\sqrt{2}}{9801}\\sum^{N}_{k=0}\\frac{(4k)!(1103 +26390k)}{(k!)^4396^{4k}}}$\n",
    "\n",
    "Use Ramanujan’s formula for N =0 and N =1 to approximate π. Compare your approximation with Python’s stored value for π.  Hint: 0!=1 by definition."
   ]
  },
  {
   "cell_type": "code",
   "execution_count": 8,
   "metadata": {},
   "outputs": [],
   "source": [
    "def Ramanajun_Approximation(N):\n",
    "    Approx = 0\n",
    "    for k in range(0, N+1):\n",
    "        Sum = (math.factorial(4*k)*(1103+26390*k))/(math.factorial(k)**4*396**(4*k))\n",
    "        Approx += 2*math.sqrt(2)/9801*Sum\n",
    "        Pi_Approx = 1/Approx\n",
    "        return Pi_Approx"
   ]
  },
  {
   "cell_type": "code",
   "execution_count": 9,
   "metadata": {},
   "outputs": [
    {
     "name": "stdout",
     "output_type": "stream",
     "text": [
      "3.1415927300133055\n",
      "3.1415927300133055\n",
      "3.1415927300133055\n",
      "3.141592653589793\n"
     ]
    }
   ],
   "source": [
    "print(f\"{Ramanajun_Approximation(0)}\")\n",
    "print(f\"{Ramanajun_Approximation(1)}\")\n",
    "print(f\"{Ramanajun_Approximation(2)}\")\n",
    "print(f\"{math.pi}\")"
   ]
  },
  {
   "cell_type": "markdown",
   "metadata": {},
   "source": [
    "**Q12.** The hyperbolics in or sinh is defined in terms of exponentials as ${sinh(x) = \\frac{e^{x}−e^{−x}}{2}}$. Compute sinh for x = 2 using exponentials. Verify that the result is indeed the hyperbolic sin using Python’s function sinh in the math module."
   ]
  },
  {
   "cell_type": "code",
   "execution_count": 10,
   "metadata": {},
   "outputs": [
    {
     "name": "stdout",
     "output_type": "stream",
     "text": [
      "3.626860407847019\n",
      "3.626860407847019\n"
     ]
    }
   ],
   "source": [
    "def sinh(x):\n",
    "    return (math.exp(x)-math.exp(-x))/2\n",
    "\n",
    "print(sinh(2))\n",
    "print(math.sinh(2))"
   ]
  },
  {
   "cell_type": "markdown",
   "metadata": {},
   "source": [
    "**Q13.** Verify that $sin^2(x) +cos^2(x) = 1$ for ${x = π, \\frac{π}{2}, \\frac{π}{4}, \\frac{π}{6}}$."
   ]
  },
  {
   "cell_type": "code",
   "execution_count": 11,
   "metadata": {},
   "outputs": [
    {
     "name": "stdout",
     "output_type": "stream",
     "text": [
      "True\n",
      "True\n",
      "True\n",
      "True\n"
     ]
    }
   ],
   "source": [
    "def verify(x):\n",
    "    return (math.sin(x)**2 + math.cos(x)**2) == 1\n",
    "\n",
    "print(verify(math.pi))\n",
    "print(verify(math.pi/2))\n",
    "print(verify(math.pi/4))\n",
    "print(verify(math.pi/6))"
   ]
  },
  {
   "cell_type": "markdown",
   "metadata": {},
   "source": [
    "**Q14.** Compute the sin87°."
   ]
  },
  {
   "cell_type": "code",
   "execution_count": 12,
   "metadata": {},
   "outputs": [
    {
     "name": "stdout",
     "output_type": "stream",
     "text": [
      "sin(87°) = 0.9986295347545738\n"
     ]
    }
   ],
   "source": [
    "print(f\"sin(87°) = {math.sin(math.radians(87))}\")"
   ]
  },
  {
   "cell_type": "markdown",
   "metadata": {},
   "source": [
    "**Q15.**  Write a Python statement that generates the following error: “AttributeError: module ‘math’ has\n",
    " no attribute ‘sni’.” Hint: sni is a misspelling of the function sin."
   ]
  },
  {
   "cell_type": "markdown",
   "metadata": {},
   "source": [
    "**<u>Ans</u>:-**  *math.sni*\n",
    "\n",
    "*<u>OUTPUT</u> :*\n",
    "\n",
    "AttributeError: *module 'math' has no attribute 'sni'*"
   ]
  },
  {
   "cell_type": "markdown",
   "metadata": {},
   "source": [
    "**Q16.** Write a Python statement that generates the following error: “TypeError: sin() takes exactly one argument (0 given).” Hint: Input arguments refers to the input of a function (any function); for example, the input in $sin(\\frac{\\pi}{2})$ is $\\frac{\\pi}{2}$."
   ]
  },
  {
   "cell_type": "markdown",
   "metadata": {},
   "source": [
    "**<u>Ans</u>:-** *math.sin( )*\n",
    "\n",
    "*<u>OUTPUT</u> :*\n",
    "\n",
    "TypeError: *math.sin( ) takes exactly one argument (0 given)*"
   ]
  },
  {
   "cell_type": "markdown",
   "metadata": {},
   "source": [
    "**Q17.** If P is a logical expression, the law of non-contradiction states that P AND (NOT P) is always false. Verify this for P true and P false.\n"
   ]
  },
  {
   "cell_type": "code",
   "execution_count": 13,
   "metadata": {},
   "outputs": [
    {
     "name": "stdout",
     "output_type": "stream",
     "text": [
      "False\n",
      "False\n"
     ]
    }
   ],
   "source": [
    "P = [True, False]\n",
    "for P in P:\n",
    "    print(f\"{P and (not P)}\")"
   ]
  },
  {
   "cell_type": "markdown",
   "metadata": {},
   "source": [
    "**Q18.** Let P and Q be logical expressions. De Morgan’s rule states that NOT (P OR Q) = (NOT P) AND (NOT Q) and NOT (P AND Q) = (NOT P) OR (NOT Q). Generate the truth tables for each statement to show that De Morgan’s rule is always true."
   ]
  },
  {
   "cell_type": "code",
   "execution_count": 14,
   "metadata": {},
   "outputs": [
    {
     "name": "stdout",
     "output_type": "stream",
     "text": [
      "True\n",
      "True\n",
      "True\n",
      "True\n",
      "True\n",
      "True\n",
      "True\n",
      "True\n"
     ]
    }
   ],
   "source": [
    "def de_morgan_1(P, Q):\n",
    "    return (not(P or Q)) == ((not P) and (not Q))\n",
    "def de_morgan_2(P, Q):\n",
    "    return (not(P and Q)) == ((not P) or (not Q))\n",
    "\n",
    "print(de_morgan_1(False, False))\n",
    "print(de_morgan_1(True, False))\n",
    "print(de_morgan_1(False, True))\n",
    "print(de_morgan_1(True, True))\n",
    "\n",
    "print(de_morgan_2(False, False))\n",
    "print(de_morgan_2(True, False))\n",
    "print(de_morgan_2(False, True))\n",
    "print(de_morgan_2(True, True))"
   ]
  },
  {
   "cell_type": "markdown",
   "metadata": {},
   "source": [
    "**Q19.**  Under what conditions for P and Q is (P AND Q) OR (P AND (NOT Q)) false?"
   ]
  },
  {
   "cell_type": "code",
   "execution_count": 15,
   "metadata": {},
   "outputs": [
    {
     "name": "stdout",
     "output_type": "stream",
     "text": [
      "False\n",
      "True\n",
      "False\n",
      "True\n"
     ]
    }
   ],
   "source": [
    "def case(P, Q):\n",
    "    return ((P and Q) or (P and (not Q)))\n",
    "\n",
    "print(case(False, False))\n",
    "print(case(True, False))\n",
    "print(case(False, True))\n",
    "print(case(True, True))"
   ]
  },
  {
   "cell_type": "markdown",
   "metadata": {},
   "source": [
    "**Q20.** Construct an equivalent logical expression for OR using only AND and NOT."
   ]
  },
  {
   "cell_type": "code",
   "execution_count": 16,
   "metadata": {},
   "outputs": [
    {
     "name": "stdout",
     "output_type": "stream",
     "text": [
      "False\n",
      "True\n",
      "True\n",
      "True\n"
     ]
    }
   ],
   "source": [
    "def expr_1(P, Q):\n",
    "    return not((not P) and (not Q))\n",
    "\n",
    "print(expr_1(False, False))\n",
    "print(expr_1(True, False))\n",
    "print(expr_1(False, True))\n",
    "print(expr_1(True, True))"
   ]
  },
  {
   "cell_type": "markdown",
   "metadata": {},
   "source": [
    "**Q21.** Construct an equivalent logical expression for AND using only OR and NOT."
   ]
  },
  {
   "cell_type": "code",
   "execution_count": 17,
   "metadata": {},
   "outputs": [
    {
     "name": "stdout",
     "output_type": "stream",
     "text": [
      "False\n",
      "False\n",
      "False\n",
      "True\n"
     ]
    }
   ],
   "source": [
    "def expr_2(P, Q):\n",
    "    return not((not P) or (not Q))\n",
    "\n",
    "print(expr_2(False, False))\n",
    "print(expr_2(True, False))\n",
    "print(expr_2(False, True))\n",
    "print(expr_2(True, True))"
   ]
  },
  {
   "cell_type": "markdown",
   "metadata": {},
   "source": [
    "**Q22.**  The logical operator XOR has the following truth table: Construct an equivalent logical expression for XOR using only AND, OR, and NOT that has the same truth table."
   ]
  },
  {
   "cell_type": "code",
   "execution_count": 18,
   "metadata": {},
   "outputs": [
    {
     "name": "stdout",
     "output_type": "stream",
     "text": [
      "False\n",
      "True\n",
      "True\n",
      "False\n"
     ]
    }
   ],
   "source": [
    "def xor(P, Q):\n",
    "    return ((P and (not Q) or ((not P) and Q)))\n",
    "\n",
    "print(xor(False, False)) \n",
    "print(xor(True, False))\n",
    "print(xor(False, True))\n",
    "print(xor(True, True))"
   ]
  },
  {
   "cell_type": "markdown",
   "metadata": {},
   "source": [
    "**Q23.**  Do the following calculation at the Python command prompt:\n",
    "\n",
    "$e^2 sin(\\frac{π}{6}) + log_{e}(3)cos(\\frac{π}{9}) − 5^3$."
   ]
  },
  {
   "cell_type": "code",
   "execution_count": 19,
   "metadata": {},
   "outputs": [
    {
     "data": {
      "text/plain": [
       "-120.27311408976854"
      ]
     },
     "execution_count": 19,
     "metadata": {},
     "output_type": "execute_result"
    }
   ],
   "source": [
    "math.exp(2) * math.sin(math.pi / 6) + math.log(3) * math.cos(math.pi / 9) - 5**3"
   ]
  },
  {
   "cell_type": "markdown",
   "metadata": {},
   "source": [
    "**Q24.**  Do the following logical and comparison operations at the Python command prompt. You may assume that P and Q are logical expressions. For P =1 and Q=1, compute NOT(P) AND NOT(Q). For a =10 and b=25, compute (a <b) AND (a =b).\n"
   ]
  },
  {
   "cell_type": "code",
   "execution_count": 20,
   "metadata": {},
   "outputs": [
    {
     "name": "stdout",
     "output_type": "stream",
     "text": [
      "False\n",
      "False\n"
     ]
    }
   ],
   "source": [
    "P = 1\n",
    "Q = 1\n",
    "a = 10\n",
    "b = 25\n",
    "print((not P) and (not Q))\n",
    "print((a<b) and (a==b))"
   ]
  },
  {
   "cell_type": "markdown",
   "metadata": {},
   "source": [
    "<u>*This is the **END** of this Exercise.*</u>"
   ]
  }
 ],
 "metadata": {
  "kernelspec": {
   "display_name": "Python 3",
   "language": "python",
   "name": "python3"
  },
  "language_info": {
   "codemirror_mode": {
    "name": "ipython",
    "version": 3
   },
   "file_extension": ".py",
   "mimetype": "text/x-python",
   "name": "python",
   "nbconvert_exporter": "python",
   "pygments_lexer": "ipython3",
   "version": "3.10.12"
  }
 },
 "nbformat": 4,
 "nbformat_minor": 2
}
